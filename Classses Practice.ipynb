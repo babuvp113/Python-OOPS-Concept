{
 "cells": [
  {
   "cell_type": "markdown",
   "metadata": {},
   "source": [
    "### Classes in Python\n",
    "#### Lets create the class for Employee"
   ]
  },
  {
   "cell_type": "code",
   "execution_count": 12,
   "metadata": {},
   "outputs": [
    {
     "name": "stdout",
     "output_type": "stream",
     "text": [
      "Babu Patil\n",
      "Test User\n",
      "----------------------------------------------------------------------------------------------------\n",
      "Babu Patil\n",
      "Test User\n"
     ]
    }
   ],
   "source": [
    "class Employee:\n",
    "    def __init__(self, first, last, salary):\n",
    "        self.first=first\n",
    "        self.last=last\n",
    "        self.salary=salary\n",
    "        self.email=first+'.'+last+'@company.com'\n",
    "\n",
    "## Lets create a method inside a class which give employee full name\n",
    "    def full_name(self):\n",
    "        return \"{} {}\".format(self.first,self.last)\n",
    "\n",
    "emp1=Employee('Babu','Patil','70000')### Instance of a class\n",
    "emp2=Employee('Test','User','60000')### Instance of a class\n",
    "\n",
    "#print Emp1 Email\n",
    "#print(emp1.last)\n",
    "\n",
    "#Print Emp1 full name using method\n",
    "print(emp1.full_name())\n",
    "print(emp2.full_name())\n",
    "print('-'*100)\n",
    "#We can also get fullname like below\n",
    "print(Employee.full_name(emp1))\n",
    "print(Employee.full_name(emp2))"
   ]
  },
  {
   "cell_type": "markdown",
   "metadata": {},
   "source": [
    "#### Class variable and Instance variable"
   ]
  },
  {
   "cell_type": "code",
   "execution_count": 40,
   "metadata": {},
   "outputs": [
    {
     "name": "stdout",
     "output_type": "stream",
     "text": [
      "0\n",
      "2\n"
     ]
    }
   ],
   "source": [
    "class Employee:\n",
    "    num_emps=0\n",
    "    raise_amount=1.04\n",
    "    def __init__(self, first, last, pay):\n",
    "        self.first=first\n",
    "        self.last=last\n",
    "        self.pay=pay\n",
    "        self.email=first+'.'+last+\"@company.com\"\n",
    "        Employee.num_emps +=1\n",
    "    def full_name(self):\n",
    "        return (\"{} {}\".format(self.first,self.last))\n",
    "    def apply_hike(self):\n",
    "        self.pay = int(self.pay * self.raise_amount)\n",
    "\n",
    "print(Employee.num_emps)\n",
    "emp1=Employee('Babu','Patil',70000)\n",
    "emp2=Employee('Test','User',60000)\n",
    "print(Employee.num_emps)\n",
    "#emp1.raise_amount=1.05\n",
    "\n",
    "#print(emp1.full_name())\n",
    "#print(emp2.full_name())\n",
    "#print(emp1.pay)\n",
    "#emp1.apply_hike()\n",
    "#print(emp1.pay)\n",
    "\n",
    "# We can access class variable \"raise_amount\" with class itself and instances as shown below\n",
    "#print(Employee.raise_amount)\n",
    "#print(emp1.raise_amount)\n",
    "#print(emp2.raise_amount)\n"
   ]
  },
  {
   "cell_type": "code",
   "execution_count": 37,
   "metadata": {},
   "outputs": [
    {
     "name": "stdout",
     "output_type": "stream",
     "text": [
      "{'first': 'Babu', 'last': 'Patil', 'pay': 70000, 'email': 'Babu.Patil@company.com'}\n"
     ]
    }
   ],
   "source": [
    "print(emp1.__dict__)##checking name space which are attribute available for that instance"
   ]
  },
  {
   "cell_type": "code",
   "execution_count": 38,
   "metadata": {},
   "outputs": [
    {
     "name": "stdout",
     "output_type": "stream",
     "text": [
      "{'__module__': '__main__', 'raise_amount': 1.04, '__init__': <function Employee.__init__ at 0x0000020EC9607E18>, 'full_name': <function Employee.full_name at 0x0000020EC9607EA0>, 'apply_hike': <function Employee.apply_hike at 0x0000020EC9620048>, '__dict__': <attribute '__dict__' of 'Employee' objects>, '__weakref__': <attribute '__weakref__' of 'Employee' objects>, '__doc__': None}\n"
     ]
    }
   ],
   "source": [
    "print(Employee.__dict__)##checking name space which are attribute available for that class"
   ]
  },
  {
   "cell_type": "code",
   "execution_count": null,
   "metadata": {},
   "outputs": [],
   "source": []
  },
  {
   "cell_type": "markdown",
   "metadata": {},
   "source": [
    "### Inheritance and Subclass"
   ]
  },
  {
   "cell_type": "code",
   "execution_count": 34,
   "metadata": {},
   "outputs": [
    {
     "name": "stdout",
     "output_type": "stream",
     "text": [
      "--> Babu Patil\n",
      "--> Test User\n",
      "None\n"
     ]
    }
   ],
   "source": [
    "class Employee:\n",
    "    hike_amount=1.05\n",
    "    def __init__(self,first,last,pay):\n",
    "        self.first=first\n",
    "        self.last=last\n",
    "        self.pay=pay\n",
    "        self.email=first+'.'+last+\"@company.com\"\n",
    "    \n",
    "    def full_name(self):\n",
    "        return self.first +' '+ self.last\n",
    "    \n",
    "    def apply_hike(self):\n",
    "        self.pay=self.pay*self.hike_amount\n",
    "\n",
    "\n",
    "class Developer(Employee):\n",
    "    hike_amount=1.1\n",
    "    def __init__(self,first,last,pay,pro_lang):\n",
    "        super().__init__(first,last,pay)\n",
    "        self.pro_lang=pro_lang\n",
    "\n",
    "\n",
    "class Manager(Employee):\n",
    "    def __init__(self,first,last,pay,Employees=None):\n",
    "        super().__init__(first,last,pay)\n",
    "        if Employees is None:\n",
    "            self.Employees=[]\n",
    "        else:\n",
    "            self.Employees=Employees\n",
    "        \n",
    "    def add_emp(self,emp):\n",
    "        if emp not in self.Employees:\n",
    "            self.Employees.append(emp)\n",
    "            \n",
    "    def remove_emp(self,emp):\n",
    "        if emp in self.Employees:\n",
    "            self.Employees.remove(emp)\n",
    "            \n",
    "            \n",
    "    def print_emp(self):\n",
    "        for emp in self.Employees:\n",
    "            print('-->',emp.full_name())\n",
    "        \n",
    "        \n",
    "        \n",
    "    \n",
    "\n",
    "dev1=Developer('Babu','Patil',70000,'Python')\n",
    "dev2=Developer('Test','User',60000,'Java')\n",
    "\n",
    "mgr1=Manager('Rock','Smith',90000,[dev1])\n",
    "mgr1.add_emp(dev2)\n",
    "print(mgr1.print_emp())\n",
    "\n",
    "#print(isinstance(mgr1,Developer)) ## To check whether the Object is an instance of that perticular class\n",
    "#print(issubclass(Manager,Employee))## To check whether the Class is subclass of a  class\n",
    "\n",
    "    "
   ]
  },
  {
   "cell_type": "code",
   "execution_count": null,
   "metadata": {},
   "outputs": [],
   "source": []
  }
 ],
 "metadata": {
  "kernelspec": {
   "display_name": "Python 3",
   "language": "python",
   "name": "python3"
  },
  "language_info": {
   "codemirror_mode": {
    "name": "ipython",
    "version": 3
   },
   "file_extension": ".py",
   "mimetype": "text/x-python",
   "name": "python",
   "nbconvert_exporter": "python",
   "pygments_lexer": "ipython3",
   "version": "3.7.3"
  }
 },
 "nbformat": 4,
 "nbformat_minor": 2
}
